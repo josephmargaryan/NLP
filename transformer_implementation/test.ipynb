{
 "cells": [
  {
   "cell_type": "code",
   "execution_count": 32,
   "metadata": {},
   "outputs": [],
   "source": [
    "import torch\n",
    "import torch.nn as nn\n",
    "from torch.utils.data import Dataset, DataLoader\n",
    "from transformer_multiclass import TransformerModel\n",
    "from torch.optim import Adam\n",
    "from torch.utils.data import random_split\n",
    "import matplotlib.pyplot as plt\n",
    "from tqdm import tqdm \n",
    "import pandas as pd"
   ]
  },
  {
   "cell_type": "markdown",
   "metadata": {},
   "source": [
    "train should be a tensor with a shape of [seq_len_train, batch_size_train].\n",
    "seq_len_train should be consistent across all sequences in the training data.\n",
    "batch_size_train is the number of sequences in each training batch.\n",
    "\n",
    "val should be a tensor with a shape of [seq_len_val, batch_size_val].\n",
    "seq_len_val should be consistent across all sequences in the validation data.\n",
    "batch_size_val is the number of sequences in each validation batch."
   ]
  },
  {
   "cell_type": "code",
   "execution_count": 33,
   "metadata": {},
   "outputs": [],
   "source": [
    "class SyntheticDataset(Dataset):\n",
    "    def __init__(self, num_sequences, sequence_length, vocab_size, num_classes=5):\n",
    "        self.num_sequences = num_sequences\n",
    "        self.sequence_length = sequence_length\n",
    "        self.vocab_size = vocab_size\n",
    "        self.num_classes = num_classes\n",
    "\n",
    "        # Divide the vocabulary into num_classes bins\n",
    "        self.class_bins = torch.linspace(0, vocab_size, num_classes + 1, dtype=torch.int)\n",
    "\n",
    "        # Generate random token indices\n",
    "        self.data = torch.randint(0, vocab_size, (num_sequences, sequence_length))\n",
    "\n",
    "    def __len__(self):\n",
    "        return self.num_sequences\n",
    "\n",
    "    def __getitem__(self, idx):\n",
    "        # Get input sequence\n",
    "        input_sequence = self.data[idx]\n",
    "\n",
    "        # Map token indices to class labels\n",
    "        class_labels = torch.zeros_like(input_sequence)\n",
    "        for i in range(self.num_classes):\n",
    "            class_labels[(input_sequence >= self.class_bins[i]) & (input_sequence < self.class_bins[i+1])] = i\n",
    "\n",
    "        return input_sequence, class_labels"
   ]
  },
  {
   "cell_type": "code",
   "execution_count": 34,
   "metadata": {},
   "outputs": [],
   "source": [
    "# Define parameters\n",
    "num_sequences = 1000\n",
    "sequence_length = 20\n",
    "vocab_size = 100\n",
    "num_classes = 5\n",
    "\n",
    "# Create synthetic dataset with reduced number of classes\n",
    "dataset = SyntheticDataset(num_sequences, sequence_length, vocab_size, num_classes)\n"
   ]
  },
  {
   "cell_type": "code",
   "execution_count": 35,
   "metadata": {},
   "outputs": [],
   "source": [
    "# Define the ratio for splitting the dataset (e.g., 80% train, 20% validation)\n",
    "train_size = int(0.8 * len(dataset))\n",
    "val_size = len(dataset) - train_size\n",
    "\n",
    "# Split the dataset into training and validation sets\n",
    "train_dataset, val_dataset = random_split(dataset, [train_size, val_size])\n",
    "\n",
    "# Create DataLoader for training and validation\n",
    "batch_size = 32\n",
    "train_loader = DataLoader(train_dataset, batch_size=batch_size, shuffle=True)\n",
    "val_loader = DataLoader(val_dataset, batch_size=batch_size)"
   ]
  },
  {
   "cell_type": "code",
   "execution_count": 36,
   "metadata": {},
   "outputs": [
    {
     "name": "stdout",
     "output_type": "stream",
     "text": [
      "Training batch:\n",
      "Input shape: torch.Size([32, 20])\n",
      "Target shape: torch.Size([32, 20])\n",
      "Validation batch:\n",
      "Input shape: torch.Size([32, 20])\n",
      "Target shape: torch.Size([32, 20])\n"
     ]
    }
   ],
   "source": [
    "# Print one batch and its shape for the training loader\n",
    "for batch_idx, (inputs, targets) in enumerate(train_loader):\n",
    "    print(\"Training batch:\")\n",
    "    print(\"Input shape:\", inputs.shape)\n",
    "    print(\"Target shape:\", targets.shape)\n",
    "    break  # Stop after printing the first batch\n",
    "\n",
    "# Print one batch and its shape for the validation loader\n",
    "for batch_idx, (inputs, targets) in enumerate(val_loader):\n",
    "    print(\"Validation batch:\")\n",
    "    print(\"Input shape:\", inputs.shape)\n",
    "    print(\"Target shape:\", targets.shape)\n",
    "    break  # Stop after printing the first batch"
   ]
  },
  {
   "cell_type": "code",
   "execution_count": 37,
   "metadata": {},
   "outputs": [
    {
     "name": "stderr",
     "output_type": "stream",
     "text": [
      "/Library/Frameworks/Python.framework/Versions/3.11/lib/python3.11/site-packages/torch/nn/modules/transformer.py:282: UserWarning: enable_nested_tensor is True, but self.use_nested_tensor is False because encoder_layer.self_attn.batch_first was not True(use batch_first for better inference performance)\n",
      "  warnings.warn(f\"enable_nested_tensor is True, but self.use_nested_tensor is False because {why_not_sparsity_fast_path}\")\n"
     ]
    }
   ],
   "source": [
    "# Step 1: Initialize the model\n",
    "# Assuming you have defined the TransformerModel class already\n",
    "ntoken = vocab_size  # Assuming the vocabulary size matches the synthetic data\n",
    "d_model = 128  # Example dimension for the model\n",
    "nhead = 4  # Example number of attention heads\n",
    "d_hid = 256  # Example dimension for the feedforward network\n",
    "nlayers = 3  # Example number of layers\n",
    "dropout = 0.2  # Example dropout probability\n",
    "\n",
    "model = TransformerModel(ntoken, d_model, nhead, d_hid, nlayers, dropout)"
   ]
  },
  {
   "cell_type": "code",
   "execution_count": 38,
   "metadata": {},
   "outputs": [],
   "source": [
    "# Step 2: Define Loss Function and Optimizer\n",
    "criterion = nn.CrossEntropyLoss()\n",
    "optimizer = Adam(model.parameters(), lr=0.001)"
   ]
  },
  {
   "cell_type": "code",
   "execution_count": 39,
   "metadata": {},
   "outputs": [
    {
     "name": "stderr",
     "output_type": "stream",
     "text": [
      "Epoch 1/10: 100%|██████████| 25/25 [00:02<00:00, 10.38batch/s]\n",
      "Validation - Epoch 1/10: 100%|██████████| 7/7 [00:00<00:00, 71.51batch/s]\n"
     ]
    },
    {
     "name": "stdout",
     "output_type": "stream",
     "text": [
      "Epoch [1/10], Train Loss: 1.8104, Val Loss: 0.4068, Train Acc: 9.1025, Val Acc: 19.8100\n"
     ]
    },
    {
     "name": "stderr",
     "output_type": "stream",
     "text": [
      "Epoch 2/10: 100%|██████████| 25/25 [00:02<00:00,  9.96batch/s]\n",
      "Validation - Epoch 2/10: 100%|██████████| 7/7 [00:00<00:00, 38.85batch/s]\n"
     ]
    },
    {
     "name": "stdout",
     "output_type": "stream",
     "text": [
      "Epoch [2/10], Train Loss: 0.1443, Val Loss: 0.0053, Train Acc: 19.7838, Val Acc: 20.0000\n"
     ]
    },
    {
     "name": "stderr",
     "output_type": "stream",
     "text": [
      "Epoch 3/10: 100%|██████████| 25/25 [00:02<00:00, 11.26batch/s]\n",
      "Validation - Epoch 3/10: 100%|██████████| 7/7 [00:00<00:00, 62.74batch/s]\n"
     ]
    },
    {
     "name": "stdout",
     "output_type": "stream",
     "text": [
      "Epoch [3/10], Train Loss: 0.0077, Val Loss: 0.0024, Train Acc: 19.9988, Val Acc: 20.0000\n"
     ]
    },
    {
     "name": "stderr",
     "output_type": "stream",
     "text": [
      "Epoch 4/10: 100%|██████████| 25/25 [00:01<00:00, 15.01batch/s]\n",
      "Validation - Epoch 4/10: 100%|██████████| 7/7 [00:00<00:00, 67.64batch/s]\n"
     ]
    },
    {
     "name": "stdout",
     "output_type": "stream",
     "text": [
      "Epoch [4/10], Train Loss: 0.0045, Val Loss: 0.0018, Train Acc: 20.0000, Val Acc: 20.0000\n"
     ]
    },
    {
     "name": "stderr",
     "output_type": "stream",
     "text": [
      "Epoch 5/10: 100%|██████████| 25/25 [00:01<00:00, 13.52batch/s]\n",
      "Validation - Epoch 5/10: 100%|██████████| 7/7 [00:00<00:00, 53.95batch/s]\n"
     ]
    },
    {
     "name": "stdout",
     "output_type": "stream",
     "text": [
      "Epoch [5/10], Train Loss: 0.0036, Val Loss: 0.0015, Train Acc: 20.0000, Val Acc: 20.0000\n"
     ]
    },
    {
     "name": "stderr",
     "output_type": "stream",
     "text": [
      "Epoch 6/10: 100%|██████████| 25/25 [00:01<00:00, 13.66batch/s]\n",
      "Validation - Epoch 6/10: 100%|██████████| 7/7 [00:00<00:00, 59.00batch/s]\n"
     ]
    },
    {
     "name": "stdout",
     "output_type": "stream",
     "text": [
      "Epoch [6/10], Train Loss: 0.0030, Val Loss: 0.0012, Train Acc: 20.0000, Val Acc: 20.0000\n"
     ]
    },
    {
     "name": "stderr",
     "output_type": "stream",
     "text": [
      "Epoch 7/10: 100%|██████████| 25/25 [00:01<00:00, 16.57batch/s]\n",
      "Validation - Epoch 7/10: 100%|██████████| 7/7 [00:00<00:00, 67.20batch/s]\n"
     ]
    },
    {
     "name": "stdout",
     "output_type": "stream",
     "text": [
      "Epoch [7/10], Train Loss: 0.0026, Val Loss: 0.0011, Train Acc: 20.0000, Val Acc: 20.0000\n"
     ]
    },
    {
     "name": "stderr",
     "output_type": "stream",
     "text": [
      "Epoch 8/10: 100%|██████████| 25/25 [00:01<00:00, 14.42batch/s]\n",
      "Validation - Epoch 8/10: 100%|██████████| 7/7 [00:00<00:00, 68.21batch/s]\n"
     ]
    },
    {
     "name": "stdout",
     "output_type": "stream",
     "text": [
      "Epoch [8/10], Train Loss: 0.0022, Val Loss: 0.0009, Train Acc: 20.0000, Val Acc: 20.0000\n"
     ]
    },
    {
     "name": "stderr",
     "output_type": "stream",
     "text": [
      "Epoch 9/10: 100%|██████████| 25/25 [00:01<00:00, 17.46batch/s]\n",
      "Validation - Epoch 9/10: 100%|██████████| 7/7 [00:00<00:00, 69.33batch/s]\n"
     ]
    },
    {
     "name": "stdout",
     "output_type": "stream",
     "text": [
      "Epoch [9/10], Train Loss: 0.0019, Val Loss: 0.0008, Train Acc: 20.0000, Val Acc: 20.0000\n"
     ]
    },
    {
     "name": "stderr",
     "output_type": "stream",
     "text": [
      "Epoch 10/10: 100%|██████████| 25/25 [00:01<00:00, 16.94batch/s]\n",
      "Validation - Epoch 10/10: 100%|██████████| 7/7 [00:00<00:00, 67.74batch/s]\n"
     ]
    },
    {
     "name": "stdout",
     "output_type": "stream",
     "text": [
      "Epoch [10/10], Train Loss: 0.0017, Val Loss: 0.0007, Train Acc: 20.0000, Val Acc: 20.0000\n"
     ]
    },
    {
     "data": {
      "image/png": "[encoded data removed]",
      "text/plain": [
       "<Figure size 1200x600 with 1 Axes>"
      ]
     },
     "metadata": {},
     "output_type": "display_data"
    },
    {
     "data": {
      "image/png": "[encoded data removed]",
      "text/plain": [
       "<Figure size 1200x600 with 1 Axes>"
      ]
     },
     "metadata": {},
     "output_type": "display_data"
    }
   ],
   "source": [
    "# Lists to store metrics over epochs\n",
    "train_losses = []\n",
    "val_losses = []\n",
    "train_accuracies = []\n",
    "val_accuracies = []\n",
    "\n",
    "# Training and evaluation loop\n",
    "num_epochs = 10\n",
    "for epoch in range(num_epochs):\n",
    "    # Training Loop\n",
    "    model.train()\n",
    "    total_loss = 0.0\n",
    "    correct_predictions = 0\n",
    "    total_samples = 0\n",
    "\n",
    "    for inputs, targets in tqdm(train_loader, desc=f'Epoch {epoch+1}/{num_epochs}', unit='batch'):\n",
    "        optimizer.zero_grad()\n",
    "        outputs = model(inputs)\n",
    "        loss = criterion(outputs.view(-1, ntoken), targets.view(-1))\n",
    "        loss.backward()\n",
    "        optimizer.step()\n",
    "\n",
    "        total_loss += loss.item() * len(inputs)\n",
    "\n",
    "        _, predicted_labels = torch.max(outputs, dim=2)\n",
    "        correct_predictions += (predicted_labels == targets).sum().item()\n",
    "        total_samples += len(inputs)\n",
    "\n",
    "    train_loss = total_loss / len(train_dataset)\n",
    "    train_accuracy = correct_predictions / total_samples\n",
    "    train_losses.append(train_loss)\n",
    "    train_accuracies.append(train_accuracy)\n",
    "\n",
    "    # Validation Loop\n",
    "    model.eval()\n",
    "    total_loss = 0.0\n",
    "    correct_predictions = 0\n",
    "    total_samples = 0\n",
    "\n",
    "    with torch.no_grad():\n",
    "        for inputs, targets in tqdm(val_loader, desc=f'Validation - Epoch {epoch+1}/{num_epochs}', unit='batch'):\n",
    "            outputs = model(inputs)\n",
    "            loss = criterion(outputs.view(-1, ntoken), targets.view(-1))\n",
    "            total_loss += loss.item() * len(inputs)\n",
    "\n",
    "            _, predicted_labels = torch.max(outputs, dim=2)\n",
    "            correct_predictions += (predicted_labels == targets).sum().item()\n",
    "            total_samples += len(inputs)\n",
    "\n",
    "    val_loss = total_loss / len(val_dataset)\n",
    "    val_accuracy = correct_predictions / total_samples\n",
    "    val_losses.append(val_loss)\n",
    "    val_accuracies.append(val_accuracy)\n",
    "\n",
    "    # Print progress\n",
    "    print(f'Epoch [{epoch+1}/{num_epochs}], Train Loss: {train_loss:.4f}, Val Loss: {val_loss:.4f}, Train Acc: {train_accuracy:.4f}, Val Acc: {val_accuracy:.4f}')\n",
    "\n",
    "# Create DataFrame from metrics\n",
    "metric_df = pd.DataFrame({\n",
    "    'Train Loss': train_losses,\n",
    "    'Val Loss': val_losses,\n",
    "    'Train Accuracy': train_accuracies,\n",
    "    'Val Accuracy': val_accuracies\n",
    "})\n",
    "\n",
    "# Plot the metrics\n",
    "plt.figure(figsize=(12,6)) \n",
    "# Plot training and validation loss\n",
    "plt.plot(metric_df['Train Loss'], label='Train Loss')\n",
    "plt.plot(metric_df['Val Loss'], label='Val Loss')\n",
    "plt.xlabel('Epoch')\n",
    "plt.ylabel('Loss')\n",
    "plt.title('Training and Validation Loss')\n",
    "plt.grid(True)\n",
    "plt.legend()\n",
    "plt.show()\n",
    "\n",
    "# Plot training and validation accuracy\n",
    "plt.figure(figsize=(12,6))\n",
    "plt.plot(metric_df['Train Accuracy'], label='Train Accuracy')\n",
    "plt.plot(metric_df['Val Accuracy'], label='Val Accuracy')\n",
    "plt.xlabel('Epoch')\n",
    "plt.ylabel('Accuracy')\n",
    "plt.title('Training and Validation Accuracy')\n",
    "plt.grid(True)\n",
    "plt.legend()\n",
    "plt.show()\n",
    "\n"
   ]
  },
  {
   "cell_type": "code",
   "execution_count": 41,
   "metadata": {},
   "outputs": [
    {
     "name": "stdout",
     "output_type": "stream",
     "text": [
      "tensor([[0, 1, 2, 2, 1, 2, 0, 1, 1, 1, 2, 1, 2, 1, 2, 1, 1, 2, 2, 2, 1, 1, 1, 1,\n",
      "         0, 1, 1, 0, 1, 2, 1, 2, 1, 2, 0, 3, 1, 2, 1, 0, 1, 2, 1, 2, 1, 3, 2, 2,\n",
      "         0, 2, 2, 2, 2, 0, 2, 2, 2, 1, 0, 2, 2, 1, 2, 1, 2, 1, 1, 1, 1, 1, 2, 1,\n",
      "         1, 1, 1, 2, 1, 1, 3, 1, 2, 1, 3, 1, 2, 3, 1, 1, 0, 1, 1, 3, 1, 1, 2, 1,\n",
      "         2, 2, 0, 2],\n",
      "        [1, 2, 3, 2, 3, 3, 4, 2, 2, 2, 3, 2, 3, 2, 3, 2, 2, 3, 3, 3, 2, 2, 2, 2,\n",
      "         4, 3, 2, 3, 2, 3, 2, 3, 2, 3, 4, 0, 3, 3, 2, 1, 2, 3, 2, 3, 2, 4, 3, 3,\n",
      "         3, 3, 3, 3, 3, 1, 3, 3, 3, 2, 3, 3, 3, 2, 3, 2, 3, 1, 2, 2, 2, 2, 3, 2,\n",
      "         2, 2, 2, 3, 2, 2, 4, 2, 3, 2, 0, 2, 3, 3, 0, 2, 4, 1, 2, 4, 2, 2, 3, 2,\n",
      "         3, 3, 0, 3],\n",
      "        [1, 2, 3, 2, 3, 1, 0, 0, 4, 2, 1, 1, 2, 4, 4, 4, 2, 4, 3, 0, 1, 4, 4, 2,\n",
      "         4, 0, 2, 4, 1, 0, 4, 1, 1, 0, 4, 0, 2, 0, 0, 1, 4, 1, 2, 0, 1, 4, 0, 4,\n",
      "         0, 0, 3, 2, 0, 0, 0, 1, 2, 0, 2, 4, 1, 2, 1, 1, 3, 1, 0, 4, 0, 1, 3, 4,\n",
      "         2, 2, 0, 0, 1, 1, 1, 2, 0, 1, 2, 1, 0, 3, 0, 1, 0, 0, 1, 4, 1, 0, 2, 4,\n",
      "         4, 0, 0, 1]])\n"
     ]
    }
   ],
   "source": [
    "X_tensor = torch.tensor([\n",
    "    [10, 23, 45, 0, 0],  # Sequence 1 (padded to length 5)\n",
    "    [5, 18, 32, 50, 12],  # Sequence 2\n",
    "    [15, 8, 2, 0, 0],     # Sequence 3 (padded to length 5)\n",
    "])\n",
    "\n",
    "# Load the trained TransformerModel (model should be instantiated and trained beforehand)\n",
    "# model = TransformerModel(ntoken, d_model, nhead, d_hid, nlayers, dropout)\n",
    "# model.load_state_dict(torch.load('path_to_saved_model.pth'))  # Load model weights if saved\n",
    "\n",
    "# Ensure model is in evaluation mode\n",
    "model.eval()\n",
    "\n",
    "# Pass input data through the model to obtain predictions\n",
    "with torch.no_grad():\n",
    "    output = model(X_tensor)\n",
    "\n",
    "# Assuming output shape is [batch_size, num_classes]\n",
    "# You can directly use argmax to get the index of the predicted class for each sequence\n",
    "_, predicted_classes = torch.max(output, dim=1)\n",
    "\n",
    "print(predicted_classes)"
   ]
  }
 ],
 "metadata": {
  "kernelspec": {
   "display_name": "Python 3",
   "language": "python",
   "name": "python3"
  },
  "language_info": {
   "codemirror_mode": {
    "name": "ipython",
    "version": 3
   },
   "file_extension": ".py",
   "mimetype": "text/x-python",
   "name": "python",
   "nbconvert_exporter": "python",
   "pygments_lexer": "ipython3",
   "version": "3.11.1"
  }
 },
 "nbformat": 4,
 "nbformat_minor": 2
}
