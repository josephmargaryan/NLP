{
 "cells": [
  {
   "cell_type": "markdown",
   "metadata": {},
   "source": [
    "### Here, we are testing 5000 X 5000 rows so 25 mil combinations. We exlude the address feature"
   ]
  },
  {
   "cell_type": "code",
   "execution_count": 13,
   "metadata": {},
   "outputs": [
    {
     "name": "stdout",
     "output_type": "stream",
     "text": [
      "Beginning preprocessing\n",
      "\n",
      "--------------------------------------------------\n"
     ]
    },
    {
     "name": "stderr",
     "output_type": "stream",
     "text": [
      "Iterating through folder: 100%|██████████| 19/19 [00:04<00:00,  3.92it/s]\n"
     ]
    },
    {
     "name": "stdout",
     "output_type": "stream",
     "text": [
      "\n",
      "--------------------------------------------------\n",
      "Beginning similarity caclulations\n",
      "\n",
      "--------------------------------------------------\n"
     ]
    },
    {
     "name": "stderr",
     "output_type": "stream",
     "text": [
      "Processing records: 100%|██████████| 3060/3060 [09:25<00:00,  5.42it/s]\n"
     ]
    },
    {
     "name": "stdout",
     "output_type": "stream",
     "text": [
      "\n",
      "--------------------------------------------------\n",
      "Beginning visualizations\n",
      "\n",
      "--------------------------------------------------\n"
     ]
    },
    {
     "data": {
      "text/plain": [
       "'visualizer = SimilarityVisualizer(scores)\\nvisualizer.plot_overall_similarity_hist()\\nvisualizer.plot_rule_based_vs_similarity()\\nfeature_columns = [\\n    \"first_name_similarity\",\\n    \"last_name_similarity\",\\n    \"subtype_similarity\",\\n    \"type_similarity\",\\n]\\nvisualizer.plot_feature_histograms(feature_columns)\\nvisualizer.plot_similarity_trends(feature_columns)\\nprint(\"\\n\" + \"-\" * 50)'"
      ]
     },
     "execution_count": 13,
     "metadata": {},
     "output_type": "execute_result"
    }
   ],
   "source": [
    "import pandas as pd \n",
    "from similarity_engine import SimilarityEngine \n",
    "from preprocessing import Preprocessing \n",
    "from visualization_utils import SimilarityVisualizer\n",
    "\n",
    "print(\"Beginning preprocessing\")\n",
    "print(\"\\n\" + \"-\" * 50)\n",
    "source_df, target_df, _ = Preprocessing(\n",
    "    \"/home/jmar/matching_project/similarity_engine/yml_examples/preprocess.yml\"\n",
    ").process_data()\n",
    "source_df = source_df.drop_duplicates(subset=\"id\")\n",
    "target_df = target_df.drop_duplicates(subset=\"id\")\n",
    "print(\"\\n\" + \"-\" * 50)\n",
    "print(\"Beginning similarity caclulations\")\n",
    "print(\"\\n\" + \"-\" * 50)\n",
    "engine = SimilarityEngine(\n",
    "    \"/home/jmar/matching_project/similarity_engine/yml_examples/engine.yml\"\n",
    ")\n",
    "scores = engine.compare_multiple_records(source_df.head(5000), target_df.head(5000))\n",
    "print(\"\\n\" + \"-\" * 50)\n",
    "print(\"Beginning visualizations\")\n",
    "print(\"\\n\" + \"-\" * 50)\n",
    "\"\"\"visualizer = SimilarityVisualizer(scores)\n",
    "visualizer.plot_overall_similarity_hist()\n",
    "visualizer.plot_rule_based_vs_similarity()\n",
    "feature_columns = [\n",
    "    \"first_name_similarity\",\n",
    "    \"last_name_similarity\",\n",
    "    \"subtype_similarity\",\n",
    "    \"type_similarity\",\n",
    "]\n",
    "visualizer.plot_feature_histograms(feature_columns)\n",
    "visualizer.plot_similarity_trends(feature_columns)\n",
    "print(\"\\n\" + \"-\" * 50)\"\"\""
   ]
  },
  {
   "cell_type": "code",
   "execution_count": 17,
   "metadata": {},
   "outputs": [
    {
     "name": "stdout",
     "output_type": "stream",
     "text": [
      "Accuracy: True Positives / All = 88 / 107 = 0.82\n"
     ]
    }
   ],
   "source": [
    "true_positives = scores.loc[scores[\"source_id\"] == scores[\"target_id\"]]\n",
    "value_counts = true_positives[\"match_label\"].value_counts()\n",
    "true_matches = value_counts.get(\"Match\", 0)\n",
    "total_records = value_counts.sum()\n",
    "accuracy = true_matches / total_records\n",
    "print(f\"Accuracy: True Positives / All = {true_matches} / {total_records} = {accuracy:.2f}\")"
   ]
  },
  {
   "cell_type": "code",
   "execution_count": 16,
   "metadata": {},
   "outputs": [
    {
     "data": {
      "text/plain": [
       "MATCH_CATEGORY_HCP\n",
       "match manual    107\n",
       "Name: count, dtype: int64"
      ]
     },
     "execution_count": 16,
     "metadata": {},
     "output_type": "execute_result"
    }
   ],
   "source": [
    "merged = pd.merge(source_df.head(5000), target_df.head(5000), on=\"id\", how=\"inner\")\n",
    "merged[\"MATCH_CATEGORY_HCP\"].value_counts()"
   ]
  },
  {
   "cell_type": "code",
   "execution_count": 19,
   "metadata": {},
   "outputs": [
    {
     "data": {
      "text/html": [
       "<div>\n",
       "<style scoped>\n",
       "    .dataframe tbody tr th:only-of-type {\n",
       "        vertical-align: middle;\n",
       "    }\n",
       "\n",
       "    .dataframe tbody tr th {\n",
       "        vertical-align: top;\n",
       "    }\n",
       "\n",
       "    .dataframe thead th {\n",
       "        text-align: right;\n",
       "    }\n",
       "</style>\n",
       "<table border=\"1\" class=\"dataframe\">\n",
       "  <thead>\n",
       "    <tr style=\"text-align: right;\">\n",
       "      <th></th>\n",
       "      <th>id</th>\n",
       "      <th>first_name__v</th>\n",
       "      <th>standardized_last_name</th>\n",
       "      <th>address_full</th>\n",
       "      <th>cleaned_phonenumber</th>\n",
       "      <th>cleaned_email</th>\n",
       "      <th>type</th>\n",
       "      <th>specialty_1_label</th>\n",
       "    </tr>\n",
       "  </thead>\n",
       "  <tbody>\n",
       "    <tr>\n",
       "      <th>494</th>\n",
       "      <td>942572098556267894</td>\n",
       "      <td>Beena</td>\n",
       "      <td>thampy</td>\n",
       "      <td>Next to Royal Rose Hotel  Pink Building(501)  ...</td>\n",
       "      <td>+97126767366</td>\n",
       "      <td>NaN</td>\n",
       "      <td>DOCTOR</td>\n",
       "      <td>Obstetrics Gynecology Womens Health</td>\n",
       "    </tr>\n",
       "  </tbody>\n",
       "</table>\n",
       "</div>"
      ],
      "text/plain": [
       "                     id  ...                    specialty_1_label\n",
       "494  942572098556267894  ...  Obstetrics Gynecology Womens Health\n",
       "\n",
       "[1 rows x 8 columns]"
      ]
     },
     "execution_count": 19,
     "metadata": {},
     "output_type": "execute_result"
    }
   ],
   "source": [
    "def get_source_record(id: str):\n",
    "    \"\"\" \n",
    "    Function to check potential false negatives\n",
    "    Params:\n",
    "        - id: The id of the record \n",
    "    Returns:\n",
    "        - record: The record with the specified ID\n",
    "        \"\"\"\n",
    "    record = target_df.loc[target_df[\"id\"] == id, [\n",
    "        \"id\", \"first_name__v\", \"standardized_last_name\", \"address_full\",\n",
    "        \"cleaned_phonenumber\", \"cleaned_email\", \"type\", \"specialty_1_label\"\n",
    "    ]]\n",
    "    return record\n",
    "get_source_record(\"942572098556267894\")"
   ]
  },
  {
   "cell_type": "code",
   "execution_count": 20,
   "metadata": {},
   "outputs": [
    {
     "data": {
      "text/html": [
       "<div>\n",
       "<style scoped>\n",
       "    .dataframe tbody tr th:only-of-type {\n",
       "        vertical-align: middle;\n",
       "    }\n",
       "\n",
       "    .dataframe tbody tr th {\n",
       "        vertical-align: top;\n",
       "    }\n",
       "\n",
       "    .dataframe thead th {\n",
       "        text-align: right;\n",
       "    }\n",
       "</style>\n",
       "<table border=\"1\" class=\"dataframe\">\n",
       "  <thead>\n",
       "    <tr style=\"text-align: right;\">\n",
       "      <th></th>\n",
       "      <th>standardized_last_name</th>\n",
       "      <th>address_full</th>\n",
       "      <th>cleaned_phonenumber</th>\n",
       "      <th>cleaned_email</th>\n",
       "      <th>id</th>\n",
       "      <th>FIRST_NAME</th>\n",
       "      <th>HCP_TYPE_V__LABEL</th>\n",
       "      <th>SPCLTY1</th>\n",
       "    </tr>\n",
       "  </thead>\n",
       "  <tbody>\n",
       "    <tr>\n",
       "      <th>29</th>\n",
       "      <td>kader</td>\n",
       "      <td>Electra St Beside Royal Rose Hotel Pin Abu Dha...</td>\n",
       "      <td>None</td>\n",
       "      <td>NaN</td>\n",
       "      <td>942572098556267894</td>\n",
       "      <td>Bina</td>\n",
       "      <td>DOCTOR</td>\n",
       "      <td>Obstetrics Gynecology Womens Health</td>\n",
       "    </tr>\n",
       "  </tbody>\n",
       "</table>\n",
       "</div>"
      ],
      "text/plain": [
       "   standardized_last_name  ...                              SPCLTY1\n",
       "29                  kader  ...  Obstetrics Gynecology Womens Health\n",
       "\n",
       "[1 rows x 8 columns]"
      ]
     },
     "execution_count": 20,
     "metadata": {},
     "output_type": "execute_result"
    }
   ],
   "source": [
    "def get_target_record(id: str):\n",
    "    \"\"\" \n",
    "    Function to check potential false negatives\n",
    "    Params:\n",
    "        - id: The id of the record \n",
    "    Returns:\n",
    "        - record: The record with the specified ID\n",
    "        \"\"\"\n",
    "    record = source_df.loc[source_df[\"id\"] == id, [\"standardized_last_name\", \"address_full\",\n",
    "        \"cleaned_phonenumber\", \"cleaned_email\", \"id\", \"FIRST_NAME\", \"HCP_TYPE_V__LABEL\", \"SPCLTY1\"]]\n",
    "    return record\n",
    "get_target_record(\"942572098556267894\")"
   ]
  }
 ],
 "metadata": {
  "kernelspec": {
   "display_name": "venv",
   "language": "python",
   "name": "python3"
  },
  "language_info": {
   "codemirror_mode": {
    "name": "ipython",
    "version": 3
   },
   "file_extension": ".py",
   "mimetype": "text/x-python",
   "name": "python",
   "nbconvert_exporter": "python",
   "pygments_lexer": "ipython3",
   "version": "3.10.14"
  }
 },
 "nbformat": 4,
 "nbformat_minor": 2
}
